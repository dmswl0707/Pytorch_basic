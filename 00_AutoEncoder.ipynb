{
  "nbformat": 4,
  "nbformat_minor": 0,
  "metadata": {
    "colab": {
      "name": "AutoEncoder.ipynb",
      "private_outputs": true,
      "provenance": [],
      "authorship_tag": "ABX9TyNTGqZ57dS9FTMQPAAAS22C",
      "include_colab_link": true
    },
    "kernelspec": {
      "name": "python3",
      "display_name": "Python 3"
    }
  },
  "cells": [
    {
      "cell_type": "markdown",
      "metadata": {
        "id": "view-in-github",
        "colab_type": "text"
      },
      "source": [
        "<a href=\"https://colab.research.google.com/github/dmswl0707/Pytorch_For_NeuralNetwork/blob/main/00_AutoEncoder.ipynb\" target=\"_parent\"><img src=\"https://colab.research.google.com/assets/colab-badge.svg\" alt=\"Open In Colab\"/></a>"
      ]
    },
    {
      "cell_type": "markdown",
      "metadata": {
        "id": "5YuoYWEPMSGL"
      },
      "source": [
        "#오토인코더\r\n",
        "데이터에 대한 효율적인 압축을 신경망을 통해 자동으로 학습하는 모델.\r\n",
        "입력 데이터의 차원보다 낮은 차원으로 압축.\r\n",
        "\r\n",
        "###오토인코더의 장점\r\n",
        "- 효율적인 인코딩\r\n",
        "- 특성 학습\r\n",
        "- 표현 학습\r\n",
        "- 차원 축소"
      ]
    },
    {
      "cell_type": "code",
      "metadata": {
        "id": "EGNwzL9kMOom"
      },
      "source": [
        "class Autoencoder(nn.Module):\r\n",
        "    def __init__(self):\r\n",
        "        super(Autoencoder, self).__init__()\r\n",
        "        self.encoder = nn.Linear(28*28,20) # 28*28, 20\r\n",
        "        self.decofer = nn.Linear(20*28*28) # 20, 28*28\r\n",
        "\r\n",
        "    def forward(self, x):\r\n",
        "        x = x.view(batch_size, -1)\r\n",
        "        encoded = self.encoder(x)\r\n",
        "        out = self.decoder(encoded).view(batch_size, 1, 28, 28)\r\n",
        "        return out"
      ],
      "execution_count": null,
      "outputs": []
    },
    {
      "cell_type": "code",
      "metadata": {
        "id": "GeoD4PqOPSEp"
      },
      "source": [
        "model = Autoencoder()\r\n",
        "loss_func = nn.MSELoss()\r\n",
        "optimizer = torch.optim.Adam(model.parameters(), lr = learing_rate)\r\n",
        "\r\n",
        "for i in range(num_epoch) : \r\n",
        "    for j, [image, label] in enumerate(train_loader):\r\n",
        "        optimizer.zero_grad()\r\n",
        "        output = model.forward(image)\r\n",
        "        loss = loss_func(output, image)\r\n",
        "        loss.baackward()\r\n",
        "        optimizer.step()\r\n"
      ],
      "execution_count": null,
      "outputs": []
    }
  ]
}