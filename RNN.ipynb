{
  "nbformat": 4,
  "nbformat_minor": 0,
  "metadata": {
    "colab": {
      "name": "RNN.ipynb",
      "provenance": [],
      "private_outputs": true,
      "authorship_tag": "ABX9TyNUjgwGlFFVAm5yTYVipty3",
      "include_colab_link": true
    },
    "kernelspec": {
      "name": "python3",
      "display_name": "Python 3"
    },
    "accelerator": "GPU"
  },
  "cells": [
    {
      "cell_type": "markdown",
      "metadata": {
        "id": "view-in-github",
        "colab_type": "text"
      },
      "source": [
        "<a href=\"https://colab.research.google.com/github/dmswl0707/Pytorch_basic/blob/main/RNN.ipynb\" target=\"_parent\"><img src=\"https://colab.research.google.com/assets/colab-badge.svg\" alt=\"Open In Colab\"/></a>"
      ]
    },
    {
      "cell_type": "code",
      "metadata": {
        "id": "AT1wAPBtjB0F"
      },
      "source": [
        "import torch\n",
        "import torch.nn as nn\n",
        "import torch.optim as optim\n",
        "import numpy as np\n",
        "\n",
        "n_hidden=25\n",
        "lr=0.01\n",
        "epochs=1000\n",
        "\n",
        "string=\"hello, pytorch, how long can a rnn cell remember?\"\n",
        "chars=\"dsfsdfsdqrwfhfgjfkgdfgkdgg\"\n",
        "char_list=[i for i in chars]\n",
        "n_letters=len(char_list)\n",
        "\n",
        "#문장을 원핫벡터로 변환\n",
        "start=[0 0 0 _ 1 0]\n",
        "a=    [1 0 0 _ 1 0]\n",
        "b=    [0 1 0 _ 1 0]\n",
        "d=    [0 0 1 _ 1 0]\n",
        "end=  [0 0 0 _ 1 1]\n",
        "\n",
        "\n",
        "def string_to_oneshot(string):\n",
        "    "
      ],
      "execution_count": null,
      "outputs": []
    }
  ]
}