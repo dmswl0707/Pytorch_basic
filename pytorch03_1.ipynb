{
  "nbformat": 4,
  "nbformat_minor": 0,
  "metadata": {
    "colab": {
      "name": "pytorch03-1.ipynb",
      "private_outputs": true,
      "provenance": [],
      "authorship_tag": "ABX9TyPf3OUyBNDSjltlXR5nWnuu",
      "include_colab_link": true
    },
    "kernelspec": {
      "name": "python3",
      "display_name": "Python 3"
    }
  },
  "cells": [
    {
      "cell_type": "markdown",
      "metadata": {
        "id": "view-in-github",
        "colab_type": "text"
      },
      "source": [
        "<a href=\"https://colab.research.google.com/github/dmswl0707/Pytorch_basic/blob/main/pytorch03_1.ipynb\" target=\"_parent\"><img src=\"https://colab.research.google.com/assets/colab-badge.svg\" alt=\"Open In Colab\"/></a>"
      ]
    },
    {
      "cell_type": "code",
      "metadata": {
        "id": "X4fLUEjSji5y"
      },
      "source": [
        "import torch\n",
        "import torch.nn as nn\n",
        "import torch.optim as optim\n",
        "import numpy as np\n"
      ],
      "execution_count": null,
      "outputs": []
    },
    {
      "cell_type": "code",
      "metadata": {
        "id": "LzvOXsJGj7RL"
      },
      "source": [
        "n_hidden = 35 #순환 신경망 노드 수\n",
        "lr = 0.01\n",
        "epochs = 1000\n",
        "\n",
        "string = \"hello, My name is ChoiEunJi\"\n",
        "chars = \"adfsddgjlewt;w#%$#%&%*\"\n",
        "char_list = [i for i in chars]\n",
        "n_letters = len(char_list)\n"
      ],
      "execution_count": null,
      "outputs": []
    },
    {
      "cell_type": "code",
      "metadata": {
        "id": "jpQFpH_XlcWj"
      },
      "source": [
        "# 문자열을 원핫인코딩하는 함수\n",
        "\n",
        "def string_to_onehot(string):\n",
        "    start = np.zeros(shape=len(char_list), dtype=int)\n",
        "    end = np.zeros(shape=len(char_list), dtype=int)\n",
        "    start[-2] = 1\n",
        "    end[-1] = 1\n",
        "    for i in string :\n",
        "        idx = char_list.index(i)\n",
        "        zero = np.zeros(shape=n_letters, dtype=int)\n",
        "        zero[idx] = 1\n",
        "        start = np.vstack([start, end])\n",
        "        return output\n",
        "\n"
      ],
      "execution_count": null,
      "outputs": []
    },
    {
      "cell_type": "code",
      "metadata": {
        "id": "84n4JIQxnj-V"
      },
      "source": [
        "# 원핫벡터를 단어로 바꿔주는 함수\n",
        "def onehot_to_word(onehot_1):\n",
        "    onehot = torch.Tensor.numpy(onehot_1)\n",
        "    return char_list[onehot.argmax()]\n"
      ],
      "execution_count": null,
      "outputs": []
    },
    {
      "cell_type": "code",
      "metadata": {
        "id": "cZ-zGVrbp6hW"
      },
      "source": [
        "# 순환 신경망 구현\n",
        "\n",
        "class RNN(nn.Module):\n",
        "    def __init__(self, input_size, hidden_size, output_size):\n",
        "        super(RNN, self).__init__()\n",
        "\n",
        "        self.input_size = input_size\n",
        "        self.hidden_size = hidden_size\n",
        "        self.output_size = output_size\n",
        "\n",
        "        self.i2h = nn.Linear(input_size, hidden_size)\n",
        "        self.h2h = nn.Linear(hidden_size, hidden_size)\n",
        "        self.i2o = nn.Linear(hidden_size, output_size)\n",
        "        self.act_fn = nn.Tanh()\n",
        "\n",
        "    def forward(self, input, hidden):\n",
        "        hidden = self.act_fn(self.i2h(input)+self.h2h(hidden)) #이전 시간 은닉값의 조합으로 새로운 은닉값\n",
        "        output = self.i2o(hidden) #은닉층에서 결괏값을 내는 구조\n",
        "        return output, hidden\n",
        "\n",
        "    def init_hidden(self):\n",
        "        return torch.zeros(1, self.hidden_size) #초기의 은닉값 0으로 초기화\n",
        "\n",
        "rnn = RNN(n_letters, n_hidden, n_letters)\n"
      ],
      "execution_count": null,
      "outputs": []
    },
    {
      "cell_type": "code",
      "metadata": {
        "id": "yUB0AsMMrkih"
      },
      "source": [
        "loss_func = nn.MSELoss()\n",
        "optimizer = torch.optim.Adam(rnn.parameters(), lr=lr)"
      ],
      "execution_count": null,
      "outputs": []
    },
    {
      "cell_type": "code",
      "metadata": {
        "id": "M-BXNguQuShO"
      },
      "source": [
        ""
      ],
      "execution_count": null,
      "outputs": []
    }
  ]
}