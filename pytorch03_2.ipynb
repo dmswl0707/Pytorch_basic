{
  "nbformat": 4,
  "nbformat_minor": 0,
  "metadata": {
    "colab": {
      "name": "pytorch03-2.ipynb",
      "private_outputs": true,
      "provenance": [],
      "authorship_tag": "ABX9TyMX6ZeXTot4UPe48Z1E/pKr",
      "include_colab_link": true
    },
    "kernelspec": {
      "name": "python3",
      "display_name": "Python 3"
    }
  },
  "cells": [
    {
      "cell_type": "markdown",
      "metadata": {
        "id": "view-in-github",
        "colab_type": "text"
      },
      "source": [
        "<a href=\"https://colab.research.google.com/github/dmswl0707/Pytorch_basic/blob/main/pytorch03_2.ipynb\" target=\"_parent\"><img src=\"https://colab.research.google.com/assets/colab-badge.svg\" alt=\"Open In Colab\"/></a>"
      ]
    },
    {
      "cell_type": "code",
      "metadata": {
        "id": "tPSqOVJQxUln"
      },
      "source": [
        "import torch\r\n",
        "import torch.nn as nn\r\n",
        "import torch.optim as optim\r\n",
        "import numpy as np"
      ],
      "execution_count": null,
      "outputs": []
    },
    {
      "cell_type": "code",
      "metadata": {
        "id": "zqNf9uaful_Q"
      },
      "source": [
        "### TRAIN\r\n",
        "\r\n",
        "one_hot = torch.from_numpy(string_to_onehot(string)).type_as(torch.FloatTensor()) #문자열을 원핫벡터로\r\n",
        "\r\n",
        "for i in range(epochs): #총 에폭동안\r\n",
        "    rnn.zero_grad()\r\n",
        "    total_loss = 0\r\n",
        "    hidden = rnn.init_hidden()\r\n",
        "\r\n",
        "    for j in range(one_hot.size()[0]-1): #학습단계\r\n",
        "        input = one_hot[j:j+1, :]\r\n",
        "        target = one_hot[j+1]\r\n",
        "\r\n",
        "        output, hidden = rnn.forward(input_, hidden)\r\n",
        "        loss = loss_func(output.view(-1), target.view(-1))\r\n",
        "        total_loss += loss\r\n",
        "        input_ = output\r\n",
        "\r\n",
        "    total_loss.backward()\r\n",
        "    optimizer.step()\r\n",
        "    if i%10 == 0:\r\n",
        "       print(total_loss)\r\n"
      ],
      "execution_count": null,
      "outputs": []
    },
    {
      "cell_type": "code",
      "metadata": {
        "id": "PFkRbAB0xei7"
      },
      "source": [
        "### TEST\r\n",
        "start = torch.zeros(1, len(char_list))\r\n",
        "start[:, -2] = 1\r\n",
        "\r\n",
        "with torch.no_grad():\r\n",
        "    hidden = rnn.init_hidden()\r\n",
        "    input_ = start\r\n",
        "    output_string = \"\"\r\n",
        "    for i in range(len(string)):\r\n",
        "        output, hidde = rnn.forward(input_, hidden)\r\n",
        "        output_string += onehot_to_word(output.data)\r\n",
        "        input_ = output_string\r\n",
        "print(output_string)"
      ],
      "execution_count": null,
      "outputs": []
    }
  ]
}